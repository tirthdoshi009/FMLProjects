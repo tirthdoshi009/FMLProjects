{
 "cells": [
  {
   "cell_type": "markdown",
   "metadata": {},
   "source": [
    "# Homework 4 - Manifold Learning\n",
    "\n",
    "This is an individual assignment.\n",
    "\n",
    "**Due: Friday, April 3, 11:59 PM**\n",
    "\n",
    "## Grading Rubric\n",
    "\n",
    "1. **Problem 1 (60 pts)**\n",
    "    * Code implementation of MDS (20 pts)\n",
    "    * Code implementation of ISOMAP (20 pts)\n",
    "    * Code implementation of LLE (20 pts)\n",
    "    \n",
    "2. **Problem 2 (40 pts)** \n",
    "    * You've used your code to projected all provided data sets to 2-D and provided the appropriated discussions\n",
    "\n",
    "**Total: 100 pts**"
   ]
  },
  {
   "cell_type": "markdown",
   "metadata": {},
   "source": [
    "# Manifold Learning\n",
    "\n",
    "In this assignment, you will explore manifold learning. You have been given 3 data sets with varying original dimensionality in each.\n",
    "\n",
    "1. **Clusters Data Set:** (or \"Gaussian clouds) this data set is 10-dimensional. **Goal:** It contains three groups of data that where each group should be classified into separate classes.\n",
    "\n",
    "2. **Swiss Roll Data Set:** this data set is 3-dimensional. **Goal:** One group of data where neighboring points on the surface should remain neighbors after dimensionality reduction and points far on the surface should remain far from each other after dimensionality reduction.\n",
    "\n",
    "3. **Half moons Data Set:** this data is 3-dimensional. **Goal:** Two groups of data that where each group should be classified into a separate class.\n",
    "\n",
    "Here are the data sets:"
   ]
  },
  {
   "cell_type": "code",
   "execution_count": null,
   "metadata": {},
   "outputs": [],
   "source": [
    "import numpy as np\n",
    "import matplotlib.pyplot as plt\n",
    "%matplotlib inline\n",
    "from mpl_toolkits import mplot3d\n",
    "\n",
    "fig = plt.figure(figsize=(15, 4))\n",
    "\n",
    "#Load Clusters\n",
    "clusters = np.loadtxt('clusters.txt') \n",
    "X1_labels = clusters[:,10] \n",
    "X1 = clusters[:,0:10]\n",
    "print('Clusters Data Set:', X1.shape)\n",
    "ax = fig.add_subplot(131, projection='3d')\n",
    "for i in range(1,4):\n",
    "    ax.plot3D(X1[X1_labels==i,0],X1[X1_labels==i,1], X1[X1_labels==i,2],'o');\n",
    "plt.title('Clusters Data Set');\n",
    "\n",
    "# Load Data Swissroll\n",
    "X2 = np.loadtxt('swissroll.txt') \n",
    "print('Swissroll Data Set: ', X2.shape)\n",
    "ax = fig.add_subplot(132, projection='3d')\n",
    "ax.plot3D(X2[:,0],X2[:,1], X2[:,2],'o');\n",
    "plt.title('Swissroll Data Set');\n",
    "\n",
    "#Load Halfmoons\n",
    "halfmoons = np.loadtxt('halfmoons.txt') \n",
    "X3_labels = halfmoons[:,3] \n",
    "X3 = halfmoons[:,0:3]\n",
    "print('Halfmoons Data Set: ',X3.shape)\n",
    "ax = fig.add_subplot(133, projection='3d')\n",
    "for i in range(1,4):\n",
    "    ax.plot3D(X3[X3_labels==i,0],X3[X3_labels==i,1], X3[X3_labels==i,2],'o');\n",
    "plt.title('Halfmoons Data Set');"
   ]
  },
  {
   "cell_type": "markdown",
   "metadata": {},
   "source": [
    "# Problem 1\n",
    "\n",
    "Implement classic MDS, ISOMAP and LLE. \n",
    "\n",
    "You should implement these models from scratch. To aid you in this implementation, you can use the follwing functions:\n",
    "\n",
    "* ```NearestNeighbors``` from the module ```sklearn.neighbors```. This will help in computing neighbors of points.\n",
    "* ```pdist``` from ```scipy.spatial.distance```. This will help computing pairwise distances between points. \n",
    "* ```squareform``` from ```scipy.spatial.distance```. This will help converting the pairwise distances into a square matrix.\n",
    "* ```numpy``` library (includes linear algebra modules)."
   ]
  },
  {
   "cell_type": "markdown",
   "metadata": {},
   "source": [
    "# Problem 2\n",
    "\n",
    "Using your code, project each data set down to 2-dimensions using classic MDS, ISOMAP and LLE.\n",
    "\n",
    "Include a discussion describing whether you think MDS, ISOMAP and LLE are able to identify the intrinsic \"manifold\" structure of the data with an explanation of why or why not. Be sure this discussion addresses the \"goal\" of the data set outlined above."
   ]
  },
  {
   "cell_type": "markdown",
   "metadata": {},
   "source": [
    "## Submit your Solution\n",
    "\n",
    "Create a PDF of the notebook with your solutions.\n",
    "\n",
    "Submit both your notebook and the PDF of your notebook to Homework 4 assignment page on Canvas.\n",
    "\n",
    "* For full credit consideration, make sure all output cells do not show any errors and all code is visible."
   ]
  },
  {
   "cell_type": "code",
   "execution_count": 77,
   "metadata": {},
   "outputs": [],
   "source": [
    "from sklearn.neighbors import NearestNeighbors\n",
    "from scipy.spatial.distance import pdist\n",
    "from scipy.spatial.distance import squareform\n",
    "import numpy as np\n",
    "from numpy import linalg as LA\n",
    "from sklearn.datasets import load_digits\n",
    "from sklearn.manifold import MDS\n",
    "import sys\n",
    "from sklearn.manifold import Isomap\n",
    "from sklearn.neighbors import NearestNeighbors"
   ]
  },
  {
   "cell_type": "markdown",
   "metadata": {},
   "source": [
    "## MDS Code Implementation"
   ]
  },
  {
   "cell_type": "code",
   "execution_count": 78,
   "metadata": {},
   "outputs": [],
   "source": [
    "# Compute the distance matrix\n",
    "# Matrix that stores pairwise distances of each other\n",
    "# Compute for X1 initially\n",
    "def MDS_user(X1):\n",
    "    D = pdist(X1, metric='euclidean')\n",
    "    D = squareform(D, force='no', checks=True)\n",
    "#print(D.shape)\n",
    "    D2 = np.square(D)\n",
    "    N = len(D)\n",
    "    one = np.ones(N)\n",
    "    L = one@one.T\n",
    "    res = np.array([ [ 1 for i in range(N) ] for j in range(N) ] )\n",
    "    print(\"This is L:\", L)\n",
    "    J = np.identity(N)-res/N\n",
    "#print(J)\n",
    "    B = -J@D2@J/2\n",
    "#print(B)\n",
    "    e_val, e_vec = LA.eig(B)\n",
    "    idx = e_val.argsort()[::-1]   \n",
    "#print(idx)\n",
    "    eigenValues = e_val[idx]\n",
    "    eigenVectors = e_vec[:,idx]\n",
    "    print(eigenValues.shape)\n",
    "    eigen_vectors = eigenVectors[:,:2]\n",
    "    print(eigen_vectors.shape)\n",
    "    eigen_values = np.diag(eigenValues[:2])\n",
    "    print(eigen_values.shape)\n",
    "    Y = eigen_vectors@np.sqrt(eigen_values)\n",
    "    print(Y.shape)\n",
    "    return Y\n",
    "#print(X1.shape)"
   ]
  },
  {
   "cell_type": "markdown",
   "metadata": {},
   "source": [
    "## MDS Visualization on Clusters DataSet"
   ]
  },
  {
   "cell_type": "code",
   "execution_count": 79,
   "metadata": {},
   "outputs": [
    {
     "name": "stdout",
     "output_type": "stream",
     "text": [
      "This is L: 600.0\n",
      "(600,)\n",
      "(600, 2)\n",
      "(2, 2)\n",
      "(600, 2)\n",
      "(600, 2)\n",
      "(600, 2)\n"
     ]
    },
    {
     "data": {
      "text/plain": [
       "<matplotlib.collections.PathCollection at 0x2779c1f0648>"
      ]
     },
     "execution_count": 79,
     "metadata": {},
     "output_type": "execute_result"
    },
    {
     "data": {
      "image/png": "[encoded data removed]",
      "text/plain": [
       "<Figure size 432x288 with 1 Axes>"
      ]
     },
     "metadata": {
      "needs_background": "light"
     },
     "output_type": "display_data"
    }
   ],
   "source": [
    "Z = MDS_user(X1)\n",
    "print(Z.shape)\n",
    "plt.scatter(Z[:,0],Z[:,1])\n",
    "embedding = MDS(n_components=2)\n",
    "X_transformed = embedding.fit_transform(X1[:600])\n",
    "print(X_transformed.shape)\n",
    "plt.scatter(X_transformed[:,0],X_transformed[:,1])"
   ]
  },
  {
   "cell_type": "code",
   "execution_count": 117,
   "metadata": {},
   "outputs": [],
   "source": [
    "def FloydWarshal(distance):\n",
    "    N = len(distance)\n",
    "    for k in range(N):\n",
    "        for i in range(N):\n",
    "            for j in range(N):\n",
    "                if(distance[i][k]+distance[k][j]<distance[i][j]):\n",
    "                    distance[i][j] = distance[i][k]+distance[k][j]\n",
    "    return distance\n",
    "    "
   ]
  },
  {
   "cell_type": "markdown",
   "metadata": {},
   "source": [
    "## IsoMap Code Implementation"
   ]
  },
  {
   "cell_type": "code",
   "execution_count": 131,
   "metadata": {},
   "outputs": [],
   "source": [
    "def IsoMap_user(data,neighbors,data_label):\n",
    "# Compute distance matrix\n",
    "    nbrs = NearestNeighbors(n_neighbors=neighbors, algorithm='auto').fit(data)\n",
    "    distances, indices = nbrs.kneighbors(data)\n",
    "#print(data)  \n",
    "    N = len(indices)\n",
    "    M = len(indices[0])\n",
    "    Dg = np.array([ [ np.inf for i in range(N) ] for j in range(N) ])\n",
    "    for i in range(N):\n",
    "        for j in range(M):\n",
    "            z=indices[i][j]\n",
    "            Dg[i][z] = distances[i][j]\n",
    "    DG = FloydWarshal(Dg)\n",
    "    #print(Dg)\n",
    "    res = np.array([ [ 1 for i in range(N) ] for j in range(N) ] )\n",
    "    J = np.identity(N)-res/N\n",
    "    B = -J@DG**2@J/2\n",
    "    e_val, e_vec = LA.eig(B)\n",
    "    idx = e_val.argsort()[::-1]   \n",
    "    eigenValues = e_val[idx]\n",
    "    eigenVectors = e_vec[:,idx]\n",
    "    eigen_vectors = eigenVectors[:,:2]\n",
    "    eigen_values = np.diag(eigenValues[:2])\n",
    "    Y = eigen_vectors@np.sqrt(eigen_values)\n",
    "    plt.scatter(Y[:,0],Y[:,1],c = data_label)"
   ]
  },
  {
   "cell_type": "code",
   "execution_count": 132,
   "metadata": {},
   "outputs": [
    {
     "ename": "KeyboardInterrupt",
     "evalue": "",
     "output_type": "error",
     "traceback": [
      "\u001b[1;31m---------------------------------------------------------------------------\u001b[0m",
      "\u001b[1;31mKeyboardInterrupt\u001b[0m                         Traceback (most recent call last)",
      "\u001b[1;32m<ipython-input-132-b411fe7c5b7e>\u001b[0m in \u001b[0;36m<module>\u001b[1;34m\u001b[0m\n\u001b[1;32m----> 1\u001b[1;33m \u001b[0mIsoMap_user\u001b[0m\u001b[1;33m(\u001b[0m\u001b[0mX1\u001b[0m\u001b[1;33m,\u001b[0m\u001b[1;36m201\u001b[0m\u001b[1;33m,\u001b[0m\u001b[0mX1_labels\u001b[0m\u001b[1;33m)\u001b[0m\u001b[1;33m\u001b[0m\u001b[1;33m\u001b[0m\u001b[0m\n\u001b[0m",
      "\u001b[1;32m<ipython-input-131-8a820209e109>\u001b[0m in \u001b[0;36mIsoMap_user\u001b[1;34m(data, neighbors, data_label)\u001b[0m\n\u001b[0;32m     11\u001b[0m             \u001b[0mz\u001b[0m\u001b[1;33m=\u001b[0m\u001b[0mindices\u001b[0m\u001b[1;33m[\u001b[0m\u001b[0mi\u001b[0m\u001b[1;33m]\u001b[0m\u001b[1;33m[\u001b[0m\u001b[0mj\u001b[0m\u001b[1;33m]\u001b[0m\u001b[1;33m\u001b[0m\u001b[1;33m\u001b[0m\u001b[0m\n\u001b[0;32m     12\u001b[0m             \u001b[0mDg\u001b[0m\u001b[1;33m[\u001b[0m\u001b[0mi\u001b[0m\u001b[1;33m]\u001b[0m\u001b[1;33m[\u001b[0m\u001b[0mz\u001b[0m\u001b[1;33m]\u001b[0m \u001b[1;33m=\u001b[0m \u001b[0mdistances\u001b[0m\u001b[1;33m[\u001b[0m\u001b[0mi\u001b[0m\u001b[1;33m]\u001b[0m\u001b[1;33m[\u001b[0m\u001b[0mj\u001b[0m\u001b[1;33m]\u001b[0m\u001b[1;33m\u001b[0m\u001b[1;33m\u001b[0m\u001b[0m\n\u001b[1;32m---> 13\u001b[1;33m     \u001b[0mDG\u001b[0m \u001b[1;33m=\u001b[0m \u001b[0mFloydWarshal\u001b[0m\u001b[1;33m(\u001b[0m\u001b[0mDg\u001b[0m\u001b[1;33m)\u001b[0m\u001b[1;33m\u001b[0m\u001b[1;33m\u001b[0m\u001b[0m\n\u001b[0m\u001b[0;32m     14\u001b[0m     \u001b[1;31m#print(Dg)\u001b[0m\u001b[1;33m\u001b[0m\u001b[1;33m\u001b[0m\u001b[1;33m\u001b[0m\u001b[0m\n\u001b[0;32m     15\u001b[0m     \u001b[0mres\u001b[0m \u001b[1;33m=\u001b[0m \u001b[0mnp\u001b[0m\u001b[1;33m.\u001b[0m\u001b[0marray\u001b[0m\u001b[1;33m(\u001b[0m\u001b[1;33m[\u001b[0m \u001b[1;33m[\u001b[0m \u001b[1;36m1\u001b[0m \u001b[1;32mfor\u001b[0m \u001b[0mi\u001b[0m \u001b[1;32min\u001b[0m \u001b[0mrange\u001b[0m\u001b[1;33m(\u001b[0m\u001b[0mN\u001b[0m\u001b[1;33m)\u001b[0m \u001b[1;33m]\u001b[0m \u001b[1;32mfor\u001b[0m \u001b[0mj\u001b[0m \u001b[1;32min\u001b[0m \u001b[0mrange\u001b[0m\u001b[1;33m(\u001b[0m\u001b[0mN\u001b[0m\u001b[1;33m)\u001b[0m \u001b[1;33m]\u001b[0m \u001b[1;33m)\u001b[0m\u001b[1;33m\u001b[0m\u001b[1;33m\u001b[0m\u001b[0m\n",
      "\u001b[1;32m<ipython-input-117-7a73366553a4>\u001b[0m in \u001b[0;36mFloydWarshal\u001b[1;34m(distance)\u001b[0m\n\u001b[0;32m      4\u001b[0m         \u001b[1;32mfor\u001b[0m \u001b[0mi\u001b[0m \u001b[1;32min\u001b[0m \u001b[0mrange\u001b[0m\u001b[1;33m(\u001b[0m\u001b[0mN\u001b[0m\u001b[1;33m)\u001b[0m\u001b[1;33m:\u001b[0m\u001b[1;33m\u001b[0m\u001b[1;33m\u001b[0m\u001b[0m\n\u001b[0;32m      5\u001b[0m             \u001b[1;32mfor\u001b[0m \u001b[0mj\u001b[0m \u001b[1;32min\u001b[0m \u001b[0mrange\u001b[0m\u001b[1;33m(\u001b[0m\u001b[0mN\u001b[0m\u001b[1;33m)\u001b[0m\u001b[1;33m:\u001b[0m\u001b[1;33m\u001b[0m\u001b[1;33m\u001b[0m\u001b[0m\n\u001b[1;32m----> 6\u001b[1;33m                 \u001b[1;32mif\u001b[0m\u001b[1;33m(\u001b[0m\u001b[0mdistance\u001b[0m\u001b[1;33m[\u001b[0m\u001b[0mi\u001b[0m\u001b[1;33m]\u001b[0m\u001b[1;33m[\u001b[0m\u001b[0mk\u001b[0m\u001b[1;33m]\u001b[0m\u001b[1;33m+\u001b[0m\u001b[0mdistance\u001b[0m\u001b[1;33m[\u001b[0m\u001b[0mk\u001b[0m\u001b[1;33m]\u001b[0m\u001b[1;33m[\u001b[0m\u001b[0mj\u001b[0m\u001b[1;33m]\u001b[0m\u001b[1;33m<\u001b[0m\u001b[0mdistance\u001b[0m\u001b[1;33m[\u001b[0m\u001b[0mi\u001b[0m\u001b[1;33m]\u001b[0m\u001b[1;33m[\u001b[0m\u001b[0mj\u001b[0m\u001b[1;33m]\u001b[0m\u001b[1;33m)\u001b[0m\u001b[1;33m:\u001b[0m\u001b[1;33m\u001b[0m\u001b[1;33m\u001b[0m\u001b[0m\n\u001b[0m\u001b[0;32m      7\u001b[0m                     \u001b[0mdistance\u001b[0m\u001b[1;33m[\u001b[0m\u001b[0mi\u001b[0m\u001b[1;33m]\u001b[0m\u001b[1;33m[\u001b[0m\u001b[0mj\u001b[0m\u001b[1;33m]\u001b[0m \u001b[1;33m=\u001b[0m \u001b[0mdistance\u001b[0m\u001b[1;33m[\u001b[0m\u001b[0mi\u001b[0m\u001b[1;33m]\u001b[0m\u001b[1;33m[\u001b[0m\u001b[0mk\u001b[0m\u001b[1;33m]\u001b[0m\u001b[1;33m+\u001b[0m\u001b[0mdistance\u001b[0m\u001b[1;33m[\u001b[0m\u001b[0mk\u001b[0m\u001b[1;33m]\u001b[0m\u001b[1;33m[\u001b[0m\u001b[0mj\u001b[0m\u001b[1;33m]\u001b[0m\u001b[1;33m\u001b[0m\u001b[1;33m\u001b[0m\u001b[0m\n\u001b[0;32m      8\u001b[0m     \u001b[1;32mreturn\u001b[0m \u001b[0mdistance\u001b[0m\u001b[1;33m\u001b[0m\u001b[1;33m\u001b[0m\u001b[0m\n",
      "\u001b[1;31mKeyboardInterrupt\u001b[0m: "
     ]
    }
   ],
   "source": [
    "IsoMap_user(X1,201,X1_labels)"
   ]
  },
  {
   "cell_type": "code",
   "execution_count": 65,
   "metadata": {},
   "outputs": [
    {
     "data": {
      "text/plain": [
       "<matplotlib.collections.PathCollection at 0x27795a28308>"
      ]
     },
     "execution_count": 65,
     "metadata": {},
     "output_type": "execute_result"
    },
    {
     "data": {
      "image/png": "[encoded data removed]",
      "text/plain": [
       "<Figure size 432x288 with 1 Axes>"
      ]
     },
     "metadata": {
      "needs_background": "light"
     },
     "output_type": "display_data"
    }
   ],
   "source": [
    "embedding = Isomap(n_components=2)\n",
    "N = len(X1)\n",
    "X_transformed = embedding.fit_transform(X1[:N])\n",
    "plt.scatter(X_transformed[:,0],X_transformed[:,1])"
   ]
  }
 ],
 "metadata": {
  "kernelspec": {
   "display_name": "Python 3",
   "language": "python",
   "name": "python3"
  },
  "language_info": {
   "codemirror_mode": {
    "name": "ipython",
    "version": 3
   },
   "file_extension": ".py",
   "mimetype": "text/x-python",
   "name": "python",
   "nbconvert_exporter": "python",
   "pygments_lexer": "ipython3",
   "version": "3.7.4"
  },
  "latex_envs": {
   "LaTeX_envs_menu_present": true,
   "autoclose": true,
   "autocomplete": true,
   "bibliofile": "biblio.bib",
   "cite_by": "apalike",
   "current_citInitial": 1,
   "eqLabelWithNumbers": true,
   "eqNumInitial": 1,
   "hotkeys": {
    "equation": "Ctrl-E",
    "itemize": "Ctrl-I"
   },
   "labels_anchors": false,
   "latex_user_defs": false,
   "report_style_numbering": false,
   "user_envs_cfg": false
  }
 },
 "nbformat": 4,
 "nbformat_minor": 2
}
