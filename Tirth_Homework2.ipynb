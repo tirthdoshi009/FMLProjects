{
 "cells": [
  {
   "cell_type": "code",
   "execution_count": 40,
   "metadata": {},
   "outputs": [],
   "source": [
    "import pandas as pd\n",
    "import numpy as np\n",
    "%matplotlib inline\n",
    "import matplotlib.pyplot as plt\n",
    "from scipy.stats import multivariate_normal\n",
    "import math\n",
    "from sklearn import preprocessing\n",
    "from mpl_toolkits import mplot3d\n"
   ]
  },
  {
   "cell_type": "code",
   "execution_count": 41,
   "metadata": {},
   "outputs": [
    {
     "name": "stdout",
     "output_type": "stream",
     "text": [
      "D:\\FML Project\n"
     ]
    }
   ],
   "source": [
    "cd D:\\FML Project"
   ]
  },
  {
   "cell_type": "code",
   "execution_count": 42,
   "metadata": {},
   "outputs": [],
   "source": [
    "df = pd.read_csv('crab.txt')"
   ]
  },
  {
   "cell_type": "markdown",
   "metadata": {},
   "source": [
    "## Splitting the test, training and class data"
   ]
  },
  {
   "cell_type": "code",
   "execution_count": 43,
   "metadata": {},
   "outputs": [
    {
     "name": "stdout",
     "output_type": "stream",
     "text": [
      "Index(['FrontalLip', 'RearWidth', 'Length', 'Width', 'Depth', 'Female'], dtype='object')\n",
      "Index(['FrontalLip', 'RearWidth', 'Length', 'Width', 'Depth', 'Female'], dtype='object')\n",
      "Index(['FrontalLip', 'RearWidth', 'Length', 'Width', 'Depth', 'Female'], dtype='object')\n",
      "             Species  FrontalLip  RearWidth    Length     Width     Depth  \\\n",
      "Species     1.000000   -0.452851  -0.349011 -0.293978 -0.220362 -0.434469   \n",
      "FrontalLip -0.452851    1.000000   0.916180  0.977073  0.961632  0.987979   \n",
      "RearWidth  -0.349011    0.916180   1.000000  0.894173  0.899375  0.897597   \n",
      "Length     -0.293978    0.977073   0.894173  1.000000  0.994630  0.982178   \n",
      "Width      -0.220362    0.961632   0.899375  0.994630  1.000000  0.965610   \n",
      "Depth      -0.434469    0.987979   0.897597  0.982178  0.965610  1.000000   \n",
      "Female     -0.000817   -0.029825   0.290706 -0.100774 -0.068113 -0.078179   \n",
      "\n",
      "              Female  \n",
      "Species    -0.000817  \n",
      "FrontalLip -0.029825  \n",
      "RearWidth   0.290706  \n",
      "Length     -0.100774  \n",
      "Width      -0.068113  \n",
      "Depth      -0.078179  \n",
      "Female      1.000000  \n"
     ]
    }
   ],
   "source": [
    "training = df.head(140)\n",
    "test = df[140:200]\n",
    "target = test[\"Species\"]\n",
    "training.drop('Male',axis =1, inplace = True)\n",
    "test.drop('Male',axis = 1, inplace = True)\n",
    "class1cond = training[\"Species\"] == 0\n",
    "class2cond = training[\"Species\"] == 1\n",
    "class1 = training[class1cond]\n",
    "class2 = training[class2cond]\n",
    "class1.drop('Species', axis = 1 , inplace = True)\n",
    "class2.drop('Species',axis = 1, inplace = True)\n",
    "test_true = test\n",
    "test.drop('Species',axis = 1, inplace = True)\n",
    "print(class1.columns)\n",
    "print(class2.columns)\n",
    "print(test_true.columns)\n",
    "print(training.corr())"
   ]
  },
  {
   "cell_type": "code",
   "execution_count": 44,
   "metadata": {},
   "outputs": [
    {
     "data": {
      "text/plain": [
       "[<matplotlib.lines.Line2D at 0x27358ef93c8>]"
      ]
     },
     "execution_count": 44,
     "metadata": {},
     "output_type": "execute_result"
    },
    {
     "data": {
      "image/png": "[encoded data removed]",
      "text/plain": [
       "<Figure size 432x288 with 1 Axes>"
      ]
     },
     "metadata": {
      "needs_background": "light"
     },
     "output_type": "display_data"
    }
   ],
   "source": [
    "import matplotlib.pyplot as plt\n",
    "\n",
    "fig = plt.figure()\n",
    "\n",
    "x = class1[\"FrontalLip\"]\n",
    "y = class1[\"Depth\"]\n",
    "plt.plot(x,y,\"bo\")\n",
    "x = class2[\"FrontalLip\"]\n",
    "y = class2[\"Depth\"]\n",
    "plt.plot(x,y,\"r+\")"
   ]
  },
  {
   "cell_type": "markdown",
   "metadata": {},
   "source": [
    "## Calculating the mean and variance of training set"
   ]
  },
  {
   "cell_type": "code",
   "execution_count": 45,
   "metadata": {},
   "outputs": [
    {
     "name": "stdout",
     "output_type": "stream",
     "text": [
      "Probability of  Class 1: \n",
      " 0.5142857142857142\n",
      "Probability of Class 2:  0.4857142857142857\n"
     ]
    }
   ],
   "source": [
    "mu1 = np.mean(class1, axis = 0)\n",
    "\n",
    "cov1 = np.cov(class1.T)\n",
    "\n",
    "mu2 = np.mean(class2, axis=0)\n",
    "\n",
    "cov2 = np.cov(class2.T)\n",
    "\n",
    "pC1 = class1.shape[0]/(class1.shape[0] + class2.shape[0])\n",
    "print('Probability of  Class 1: \\n',pC1)\n",
    "\n",
    "pC2 = class2.shape[0]/(class1.shape[0] + class2.shape[0])\n",
    "print('Probability of Class 2: ',pC2)"
   ]
  },
  {
   "cell_type": "markdown",
   "metadata": {},
   "source": [
    "## Probability density function"
   ]
  },
  {
   "cell_type": "code",
   "execution_count": 46,
   "metadata": {},
   "outputs": [],
   "source": [
    "from scipy.stats import multivariate_normal\n",
    "\n",
    "#probability density function (pdf)\n",
    "y1 = multivariate_normal.pdf(test, mean=mu1, cov=cov1) #P(x|C1)\n",
    "y2 = multivariate_normal.pdf(test, mean=mu2, cov=cov2) #P(x|C2)"
   ]
  },
  {
   "cell_type": "markdown",
   "metadata": {},
   "source": [
    "## Posterior Distributions"
   ]
  },
  {
   "cell_type": "code",
   "execution_count": 47,
   "metadata": {},
   "outputs": [
    {
     "data": {
      "text/plain": [
       "array([False, False,  True,  True,  True, False,  True, False, False,\n",
       "       False, False,  True, False,  True, False, False,  True, False,\n",
       "       False,  True,  True, False, False,  True,  True,  True, False,\n",
       "       False,  True,  True, False,  True,  True,  True,  True, False,\n",
       "        True, False, False,  True,  True,  True,  True,  True,  True,\n",
       "       False,  True,  True, False,  True, False, False, False, False,\n",
       "       False,  True,  True,  True,  True, False])"
      ]
     },
     "execution_count": 47,
     "metadata": {},
     "output_type": "execute_result"
    }
   ],
   "source": [
    "# Look at the posterior distributions\n",
    "pos1 = (y1*pC1)/ (y1*pC1 + y2*pC2)\n",
    "pos2 = (y2*pC2)/(y1*pC1 + y2*pC2)\n",
    "pos1<pos2"
   ]
  },
  {
   "cell_type": "markdown",
   "metadata": {},
   "source": [
    "## Predicting the species type based on posterior distributions"
   ]
  },
  {
   "cell_type": "code",
   "execution_count": 48,
   "metadata": {},
   "outputs": [],
   "source": [
    "predicted = []\n",
    "for number in range(60):\n",
    "    if(pos1[number]>pos2[number]):\n",
    "        predicted.append(0)\n",
    "    else:\n",
    "        predicted.append(1)\n",
    "#target = target.to_numpy()"
   ]
  },
  {
   "cell_type": "markdown",
   "metadata": {},
   "source": [
    "## Calculating the accuracy of the model"
   ]
  },
  {
   "cell_type": "code",
   "execution_count": 49,
   "metadata": {},
   "outputs": [
    {
     "name": "stdout",
     "output_type": "stream",
     "text": [
      "Accuracy is  100.0 %\n"
     ]
    }
   ],
   "source": [
    "test1 = df[140:200]\n",
    "target = test1[\"Species\"]\n",
    "t=np.array(target)\n",
    "accuracy = []\n",
    "accuracy = t == predicted\n",
    "count = 0\n",
    "for i in range(60):\n",
    "    if accuracy[i] == 1:\n",
    "        count +=1\n",
    "accuracy = (count/60)*100\n",
    "print(\"Accuracy is \",accuracy,\"%\")"
   ]
  },
  {
   "cell_type": "markdown",
   "metadata": {},
   "source": [
    "## Problem Encountered and its Solution\n",
    "Recall that while doing the probablistic generative classifiers, we assumed that our data was independent and identically distributed. Although, identically distributed, our data was not independent of each other. For example, the column Male and Female were not independent of each other. Thus our assumption that the data was independent of each other was wrong. Thus the inverse of our covariance matrix could not exist as the covariance matrix becomes a singular matrix since the column Male and Female both of them were there. The solution to this problem is simply dropping any one of the columns either male or female so that our data becomes independent of each other. "
   ]
  },
  {
   "cell_type": "markdown",
   "metadata": {},
   "source": [
    "## Confusion Matrix"
   ]
  },
  {
   "cell_type": "code",
   "execution_count": 50,
   "metadata": {},
   "outputs": [],
   "source": [
    "#Confusion Matrix for all the parameters\n",
    "#from sklearn.metrics import confusion_matrix\n",
    "#confusion_matrix(t, predicted, labels=[0, 1])\n",
    "def getConfusionMatrix(t,predicted):\n",
    "    cm = [ [ 0 for i in range(2) ] for j in range(2) ] \n",
    "    c1 = 0\n",
    "    c2 = 0\n",
    "    c3 = 0\n",
    "    c4 = 0\n",
    "    for i in range(len(t)):\n",
    "        #print(t[i],\"   \",predicted[i])\n",
    "        #print(t[i] == 0 and predicted[i] ==0)\n",
    "        if t[i] == 0 and predicted[i] == 0:\n",
    "            c1+=1\n",
    "        elif t[i] == 0 and predicted[i] == 1:\n",
    "            c2+=1\n",
    "        elif t[i] == 1 and predicted[i] ==0:\n",
    "            c3+=1\n",
    "        elif t[i] == 1 and predicted[i] == 1:\n",
    "            c4+=1\n",
    "    cm[0][0] = c1\n",
    "    cm[0][1] = c2\n",
    "    cm[1][0] = c3\n",
    "    cm[1][1] = c4\n",
    "    return cm"
   ]
  },
  {
   "cell_type": "code",
   "execution_count": 13,
   "metadata": {},
   "outputs": [
    {
     "name": "stdout",
     "output_type": "stream",
     "text": [
      "[[28, 0], [0, 32]]\n"
     ]
    }
   ],
   "source": [
    "confusion_matrix = getConfusionMatrix(t,predicted)\n",
    "print(confusion_matrix)"
   ]
  },
  {
   "cell_type": "markdown",
   "metadata": {},
   "source": [
    "## Confusion Matrix for test data: Probabilistic Generative Classifiers\n",
    "\n",
    "|actual/predict|   Species 0  |    Species 1|\n",
    "|--------------|--------------|-------------|\n",
    "| Species 0    |      28      |       0     |\n",
    "| Species 1    |       0      |       32    |"
   ]
  },
  {
   "cell_type": "markdown",
   "metadata": {},
   "source": [
    "## KNN Algorithm for test data"
   ]
  },
  {
   "cell_type": "code",
   "execution_count": 51,
   "metadata": {},
   "outputs": [],
   "source": [
    "import math\n",
    "\n",
    "training_knn = df.head(140)\n",
    "test_knn = df[140:200]\n",
    "test_knn.drop('Male',axis = 1, inplace = True)\n",
    "training_knn.drop('Male',axis = 1, inplace = True)\n",
    "#normalized_training_knn = preprocessing.normalize(training_knn)\n",
    "#normalized_test_knn = preprocessing.normalize(test_knn)\n",
    "def euclideanDistance(instance1, instance2, length):\n",
    "    dist= 0\n",
    "    for x in range(0,length):\n",
    "        dist += pow((instance1[x]-instance2[x]),2)\n",
    "    return math.sqrt(dist)"
   ]
  },
  {
   "cell_type": "code",
   "execution_count": 52,
   "metadata": {},
   "outputs": [
    {
     "name": "stdout",
     "output_type": "stream",
     "text": [
      "(7,)\n",
      "(7,)\n"
     ]
    },
    {
     "data": {
      "text/plain": [
       "17.30837947353824"
      ]
     },
     "execution_count": 52,
     "metadata": {},
     "output_type": "execute_result"
    }
   ],
   "source": [
    "data1 = training_knn.to_numpy()\n",
    "data2 = test_knn.to_numpy()\n",
    "print(data1[0].shape)\n",
    "print(data2[0].shape)\n",
    "euclideanDistance(data1[0],data2[0],7)\n",
    "#d = euclideanDistance(data1.head,data2[0],7)"
   ]
  },
  {
   "cell_type": "code",
   "execution_count": 53,
   "metadata": {},
   "outputs": [],
   "source": [
    "import operator\n",
    "def getNeighbors(trainingSet,testInstance,k):\n",
    "    distances = []\n",
    "    for x in range(len(trainingSet)):\n",
    "        dist = euclideanDistance(testInstance,trainingSet[x],7)\n",
    "        distances.append((trainingSet[x],dist))\n",
    "    distances.sort(key = operator.itemgetter(1))\n",
    "    neighbors = []\n",
    "    for x in range(k):\n",
    "        neighbors.append(distances[x][0])\n",
    "    return neighbors"
   ]
  },
  {
   "cell_type": "code",
   "execution_count": 55,
   "metadata": {},
   "outputs": [
    {
     "name": "stdout",
     "output_type": "stream",
     "text": [
      "[array([ 0. , 16.1, 13.7, 31.4, 36.1, 13.9,  1. ]), array([ 0. , 15.7, 13.6, 31. , 34.8, 13.8,  1. ]), array([ 0. , 15.6, 14.1, 31. , 34.5, 13.8,  1. ]), array([ 0. , 16.7, 14.3, 32.3, 37. , 14.7,  1. ]), array([ 1. , 15. , 13.8, 31.7, 36.9, 14. ,  1. ])]\n"
     ]
    }
   ],
   "source": [
    "t2 = test_knn.to_numpy()\n",
    "t1 = training_knn.to_numpy()\n",
    "neighbors = getNeighbors(t1,t2[0],5)\n",
    "print(neighbors)"
   ]
  },
  {
   "cell_type": "code",
   "execution_count": 56,
   "metadata": {},
   "outputs": [],
   "source": [
    "import operator\n",
    "def getResponse(neighbors):\n",
    "    classVotes = []\n",
    "    classVotes.append(0)\n",
    "    classVotes.append(0)\n",
    "    for x in range(len(neighbors)):\n",
    "        response = neighbors[x][0]\n",
    "        if response == 0:\n",
    "            classVotes[0] = classVotes[0]+1\n",
    "        else:\n",
    "            classVotes[1] = classVotes[1]+1\n",
    "    return classVotes"
   ]
  },
  {
   "cell_type": "code",
   "execution_count": 57,
   "metadata": {},
   "outputs": [],
   "source": [
    "def getAccuracy(testSet,predictions):\n",
    "    correct = 0\n",
    "    for x in range(len(testSet)):\n",
    "        if testSet[x][0] == predictions[x]:\n",
    "            correct+=1\n",
    "    return(correct/float(len(testSet)))*100.0"
   ]
  },
  {
   "cell_type": "code",
   "execution_count": 58,
   "metadata": {},
   "outputs": [],
   "source": [
    "testSet = test_knn.head(20)\n",
    "t1 = testSet.to_numpy()\n",
    "predictions = []\n",
    "for x in range(20):\n",
    "    predictions.append(0.0)\n",
    "accuracy = getAccuracy(t1,predictions)"
   ]
  },
  {
   "cell_type": "code",
   "execution_count": 61,
   "metadata": {},
   "outputs": [
    {
     "name": "stdout",
     "output_type": "stream",
     "text": [
      "91.66666666666666\n",
      "88.33333333333333\n",
      "86.66666666666667\n",
      "86.66666666666667\n",
      "86.66666666666667\n",
      "81.66666666666667\n",
      "78.33333333333333\n",
      "81.66666666666667\n",
      "81.66666666666667\n",
      "80.0\n",
      "78.33333333333333\n",
      "76.66666666666667\n",
      "76.66666666666667\n",
      "80.0\n",
      "73.33333333333333\n",
      "73.33333333333333\n",
      "75.0\n",
      "75.0\n",
      "73.33333333333333\n",
      "68.33333333333333\n"
     ]
    },
    {
     "data": {
      "text/plain": [
       "Text(0.5, 1.0, 'Accuracy Vs K')"
      ]
     },
     "execution_count": 61,
     "metadata": {},
     "output_type": "execute_result"
    },
    {
     "data": {
      "image/png": "[encoded data removed]",
      "text/plain": [
       "<Figure size 432x288 with 1 Axes>"
      ]
     },
     "metadata": {
      "needs_background": "light"
     },
     "output_type": "display_data"
    }
   ],
   "source": [
    "test_knn1 =  test_knn.to_numpy()\n",
    "training_knn1 = training_knn.to_numpy()\n",
    "graphk = []\n",
    "graphaccuracy = []\n",
    "for k in range(1,40,2):\n",
    "    prediction = []\n",
    "    for x in range(len(test_knn1)):\n",
    "        classVotes = []\n",
    "        neighbors  = getNeighbors(training_knn1,test_knn1[x],k)\n",
    "        classVotes = getResponse(neighbors)\n",
    "        if classVotes[0]>classVotes[1]:\n",
    "            prediction.append(0)\n",
    "        else:\n",
    "            prediction.append(1)\n",
    "    accuracy = getAccuracy(test_knn1,prediction)\n",
    "    print(accuracy)\n",
    "    graphk.append(k)\n",
    "    graphaccuracy.append(accuracy)\n",
    "plt.plot(graphk, graphaccuracy)\n",
    "plt.title(\"Accuracy Vs K\")"
   ]
  },
  {
   "cell_type": "markdown",
   "metadata": {},
   "source": [
    "## For optimum value of k"
   ]
  },
  {
   "cell_type": "code",
   "execution_count": 20,
   "metadata": {},
   "outputs": [
    {
     "name": "stdout",
     "output_type": "stream",
     "text": [
      "[[27, 1], [4, 28]]\n"
     ]
    }
   ],
   "source": [
    "prediction = []\n",
    "classVotes = []\n",
    "for x in range(len(test_knn1)):\n",
    "    neighbors  = getNeighbors(training_knn1,test_knn1[x],1)\n",
    "    classVotes = getResponse(neighbors)\n",
    "    if classVotes[0]>classVotes[1]:\n",
    "        prediction.append(0)\n",
    "    else:\n",
    "        prediction.append(1)\n",
    "confusion_matrix = getConfusionMatrix(t,prediction)\n",
    "print(confusion_matrix)"
   ]
  },
  {
   "cell_type": "markdown",
   "metadata": {},
   "source": [
    "# Confusion Matrix for K-NN where K=1\n",
    "|actual/predict|   Species 0  |    Species 1|\n",
    "|--------------|--------------|-------------|\n",
    "| Species 0    |      27      |       1     |\n",
    "| Species 1    |      04      |       28    |"
   ]
  },
  {
   "cell_type": "markdown",
   "metadata": {},
   "source": [
    "## KNN for training data without considering the distance of the point to itself"
   ]
  },
  {
   "cell_type": "code",
   "execution_count": 21,
   "metadata": {},
   "outputs": [],
   "source": [
    "import sys\n",
    "def getNeighborsTraining(trainingSet,testInstance,k):\n",
    "    distances = []\n",
    "    for x in range(len(trainingSet)):\n",
    "        comparison = trainingSet[x] == testInstance\n",
    "        equal_arrays = comparison.all()\n",
    "        if equal_arrays:\n",
    "            dist = sys.maxsize\n",
    "        else:\n",
    "            dist = euclideanDistance(testInstance,trainingSet[x],7)\n",
    "        distances.append((trainingSet[x],dist))\n",
    "    distances.sort(key = operator.itemgetter(1))\n",
    "    neighbors = []\n",
    "    for x in range(k):\n",
    "        neighbors.append(distances[x][0])\n",
    "    return neighbors"
   ]
  },
  {
   "cell_type": "code",
   "execution_count": 22,
   "metadata": {},
   "outputs": [
    {
     "name": "stdout",
     "output_type": "stream",
     "text": [
      "9223372036854775807\n"
     ]
    }
   ],
   "source": [
    "print(sys.maxsize)"
   ]
  },
  {
   "cell_type": "code",
   "execution_count": 23,
   "metadata": {},
   "outputs": [
    {
     "name": "stdout",
     "output_type": "stream",
     "text": [
      "95.71428571428572\n",
      "92.14285714285714\n",
      "91.42857142857143\n",
      "89.28571428571429\n",
      "84.28571428571429\n",
      "85.0\n",
      "83.57142857142857\n",
      "82.14285714285714\n",
      "80.71428571428572\n",
      "79.28571428571428\n",
      "78.57142857142857\n",
      "76.42857142857142\n",
      "74.28571428571429\n",
      "72.14285714285714\n",
      "70.0\n",
      "67.14285714285714\n",
      "66.42857142857143\n",
      "60.0\n",
      "62.142857142857146\n",
      "64.28571428571429\n",
      "63.57142857142857\n",
      "63.57142857142857\n",
      "62.142857142857146\n",
      "59.285714285714285\n",
      "56.42857142857143\n",
      "55.00000000000001\n",
      "51.42857142857142\n",
      "60.0\n",
      "60.71428571428571\n",
      "61.42857142857143\n",
      "59.285714285714285\n",
      "57.85714285714286\n",
      "56.42857142857143\n",
      "56.42857142857143\n",
      "57.14285714285714\n",
      "57.14285714285714\n",
      "56.42857142857143\n",
      "57.14285714285714\n",
      "56.42857142857143\n",
      "60.0\n",
      "60.71428571428571\n",
      "60.0\n",
      "60.0\n",
      "60.0\n",
      "58.57142857142858\n",
      "60.71428571428571\n",
      "58.57142857142858\n",
      "58.57142857142858\n",
      "59.285714285714285\n",
      "59.285714285714285\n"
     ]
    },
    {
     "data": {
      "text/plain": [
       "Text(0.5, 1.0, 'Accuracy Vs K')"
      ]
     },
     "execution_count": 23,
     "metadata": {},
     "output_type": "execute_result"
    },
    {
     "data": {
      "image/png": "[encoded data removed]",
      "text/plain": [
       "<Figure size 432x288 with 1 Axes>"
      ]
     },
     "metadata": {
      "needs_background": "light"
     },
     "output_type": "display_data"
    }
   ],
   "source": [
    "test_knn1 =  test_knn.to_numpy()\n",
    "training_knn1 = training_knn.to_numpy()\n",
    "graphk = []\n",
    "graphaccuracy = []\n",
    "for k in range(1,100,2):\n",
    "    prediction = []\n",
    "    for x in range(len(training_knn1)):\n",
    "        classVotes = []\n",
    "        neighbors  = getNeighborsTraining(training_knn1,training_knn1[x],k)\n",
    "        classVotes = getResponse(neighbors)\n",
    "        if classVotes[0]>classVotes[1]:\n",
    "            prediction.append(0)\n",
    "        else:\n",
    "            prediction.append(1)\n",
    "    accuracy = getAccuracy(training_knn1,prediction)\n",
    "    print(accuracy)\n",
    "    graphk.append(k)\n",
    "    graphaccuracy.append(accuracy)\n",
    "plt.plot(graphk, graphaccuracy)\n",
    "plt.title(\"Accuracy Vs K\")"
   ]
  },
  {
   "cell_type": "markdown",
   "metadata": {},
   "source": [
    "## Confusion Matrix for training set"
   ]
  },
  {
   "cell_type": "code",
   "execution_count": 54,
   "metadata": {},
   "outputs": [
    {
     "name": "stdout",
     "output_type": "stream",
     "text": [
      "(140,)\n",
      "140\n",
      "[[64, 8], [3, 65]]\n"
     ]
    }
   ],
   "source": [
    "prediction = []\n",
    "classVotes = []\n",
    "t = training_knn['Species'].to_numpy()\n",
    "print(t.shape)\n",
    "for x in range(len(training_knn1)):\n",
    "    neighbors  = getNeighborsTraining(training_knn1,training_knn1[x],3)\n",
    "    classVotes = getResponse(neighbors)\n",
    "    if classVotes[0]>classVotes[1]:\n",
    "        prediction.append(0)\n",
    "    else:\n",
    "        prediction.append(1)\n",
    "print(len(prediction))\n",
    "confusion_matrix = getConfusionMatrix(t,prediction)\n",
    "print(confusion_matrix)"
   ]
  },
  {
   "cell_type": "markdown",
   "metadata": {},
   "source": [
    "# Confusion Matrix for Training Data: K=3\n",
    "|actual/predict|   Species 0  |    Species 1|\n",
    "|--------------|--------------|-------------|\n",
    "| Species 0    |      64      |       8     |\n",
    "| Species 1    |       3      |       65    |"
   ]
  },
  {
   "cell_type": "code",
   "execution_count": null,
   "metadata": {},
   "outputs": [],
   "source": []
  }
 ],
 "metadata": {
  "kernelspec": {
   "display_name": "Python 3",
   "language": "python",
   "name": "python3"
  },
  "language_info": {
   "codemirror_mode": {
    "name": "ipython",
    "version": 3
   },
   "file_extension": ".py",
   "mimetype": "text/x-python",
   "name": "python",
   "nbconvert_exporter": "python",
   "pygments_lexer": "ipython3",
   "version": "3.7.4"
  }
 },
 "nbformat": 4,
 "nbformat_minor": 2
}
